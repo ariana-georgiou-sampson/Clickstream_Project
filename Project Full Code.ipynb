{
 "cells": [
  {
   "cell_type": "markdown",
   "id": "beb0c0c3-0160-4558-a683-4e6fb3f1dac4",
   "metadata": {},
   "source": [
    "SECTION A"
   ]
  },
  {
   "cell_type": "markdown",
   "id": "51141f77-10ca-4725-b77a-4f19152e73ae",
   "metadata": {},
   "source": [
    "1. What are the most popular websites at which, or through which, customers book their hotels at or through?"
   ]
  },
  {
   "cell_type": "code",
   "execution_count": 16,
   "id": "e010d020-d63e-4e93-bc6f-9b133f8e2e21",
   "metadata": {},
   "outputs": [
    {
     "name": "stdout",
     "output_type": "stream",
     "text": [
      "['ID' 'DOMAIN_ID' 'MACHINE_ID' 'SITE_SESSION_ID' 'TRANS_FREQ'\n",
      " 'DOMAIN_NAME' 'DIRECTP_D' 'PROD_NAME' 'PROD_QTY' 'PROD_TOTPRICE'\n",
      " 'REF_DOMAIN_NAME' 'DURATION' 'PAGES_VIEWED' 'HOUSEHOLD_SIZE' 'CHILDREN_D'\n",
      " 'CONNECTIONSPEED_D']\n",
      "(3749, 16)\n",
      "<class 'pandas.core.frame.DataFrame'>\n",
      "RangeIndex: 3749 entries, 0 to 3748\n",
      "Data columns (total 16 columns):\n",
      " #   Column             Non-Null Count  Dtype  \n",
      "---  ------             --------------  -----  \n",
      " 0   ID                 3749 non-null   int64  \n",
      " 1   DOMAIN_ID          3749 non-null   uint64 \n",
      " 2   MACHINE_ID         3749 non-null   int64  \n",
      " 3   SITE_SESSION_ID    3749 non-null   int64  \n",
      " 4   TRANS_FREQ         3749 non-null   int64  \n",
      " 5   DOMAIN_NAME        3749 non-null   object \n",
      " 6   DIRECTP_D          3749 non-null   int64  \n",
      " 7   PROD_NAME          3749 non-null   object \n",
      " 8   PROD_QTY           3749 non-null   int64  \n",
      " 9   PROD_TOTPRICE      3749 non-null   float64\n",
      " 10  REF_DOMAIN_NAME    1687 non-null   object \n",
      " 11  DURATION           3749 non-null   float64\n",
      " 12  PAGES_VIEWED       3749 non-null   int64  \n",
      " 13  HOUSEHOLD_SIZE     3749 non-null   int64  \n",
      " 14  CHILDREN_D         3749 non-null   int64  \n",
      " 15  CONNECTIONSPEED_D  3749 non-null   int64  \n",
      "dtypes: float64(2), int64(10), object(3), uint64(1)\n",
      "memory usage: 468.8+ KB\n",
      "None\n",
      "     ID             DOMAIN_ID  MACHINE_ID  SITE_SESSION_ID  TRANS_FREQ  \\\n",
      "0  1525  13877604970862366012    85643811    4447900536932           1   \n",
      "1   402   7101213156062330967    76460408   71774258860245           1   \n",
      "2   233   7772350535129410931    74286590    3825866182640           1   \n",
      "3  2362   9530952911301729568    90015830   70000481538306           1   \n",
      "4  2738   4024709573451844450    91435029    5158448795791           2   \n",
      "\n",
      "          DOMAIN_NAME  DIRECTP_D  \\\n",
      "0   ichotelsgroup.com          1   \n",
      "1          orbitz.com          0   \n",
      "2           hyatt.com          1   \n",
      "3         expedia.com          0   \n",
      "4  starwoodhotels.com          1   \n",
      "\n",
      "                                           PROD_NAME  PROD_QTY  PROD_TOTPRICE  \\\n",
      "0  FT. LAUDERDALE AIRPORT/CRUISE - CROWNE PLAZA H...        32    2847.039993   \n",
      "1      WALT DISNEY WORLD MAGIC YOUR WAY TICKETS! N/A         1    2406.939995   \n",
      "2  HYATT REGENCY MAUI RESORT  SPA FRI 11 MAR 2011...         5    2168.000000   \n",
      "3  HOTEL - THE ADDRESS DUBAI MARINA ~SAT DEC/10/2...         5    1958.699997   \n",
      "4        HOTEL-W NEW YORK - TIMES SQUARE 08/18~08/21         3    1797.000000   \n",
      "\n",
      "  REF_DOMAIN_NAME   DURATION  PAGES_VIEWED  HOUSEHOLD_SIZE  CHILDREN_D  \\\n",
      "0             NaN  23.328125            13               6           1   \n",
      "1       yahoo.com  47.109375            17               2           1   \n",
      "2      google.com  20.058594            19               1           0   \n",
      "3             NaN  47.546875            39               1           0   \n",
      "4     whotels.com  14.599609            19               1           0   \n",
      "\n",
      "   CONNECTIONSPEED_D  \n",
      "0                  1  \n",
      "1                  1  \n",
      "2                  1  \n",
      "3                  1  \n",
      "4                  1  \n"
     ]
    }
   ],
   "source": [
    "from scipy import stats\n",
    "import pandas as pd\n",
    "import numpy as np\n",
    "\n",
    "print (hclick.columns.values)\n",
    "print (hclick.shape)\n",
    "print (hclick.info())\n",
    "print (hclick.head())"
   ]
  },
  {
   "cell_type": "code",
   "execution_count": 15,
   "id": "9382330d-a73f-47cb-ba52-01ee21669706",
   "metadata": {},
   "outputs": [
    {
     "data": {
      "text/plain": [
       "marriott.com        524\n",
       "hilton.com          438\n",
       "hotels.com          400\n",
       "expedia.com         380\n",
       "priceline.com       309\n",
       "choicehotels.com    297\n",
       "jetblue.com         229\n",
       "hotwire.com         217\n",
       "bestwestern.com     120\n",
       "orbitz.com          109\n",
       "Name: DOMAIN_NAME, dtype: int64"
      ]
     },
     "execution_count": 15,
     "metadata": {},
     "output_type": "execute_result"
    }
   ],
   "source": [
    "#Top 10 domain names\n",
    "hclick['DOMAIN_NAME'].value_counts()[:10].sort_values(ascending=False)"
   ]
  },
  {
   "cell_type": "code",
   "execution_count": 9,
   "id": "631970fb-d4a7-46ca-acf6-197171011298",
   "metadata": {},
   "outputs": [
    {
     "data": {
      "text/plain": [
       "google.com           620\n",
       "yahoo.com            222\n",
       "bing.com             129\n",
       "aol.com               53\n",
       "comfortinn.com        48\n",
       "jetblue.com           43\n",
       "qualityinn.com        29\n",
       "comfortsuites.com     22\n",
       "kayak.com             20\n",
       "mywebsearch.com       17\n",
       "Name: REF_DOMAIN_NAME, dtype: int64"
      ]
     },
     "execution_count": 9,
     "metadata": {},
     "output_type": "execute_result"
    }
   ],
   "source": [
    "#Top 10 reference domain names\n",
    "hclick['REF_DOMAIN_NAME'].value_counts()[:10].sort_values(ascending=False)"
   ]
  },
  {
   "cell_type": "markdown",
   "id": "d4c22a1b-7f09-4c08-85c0-77834ca46a1b",
   "metadata": {},
   "source": [
    "2. Create new variables to examine its distribution and possibly its role in answering our questions."
   ]
  },
  {
   "cell_type": "code",
   "execution_count": 63,
   "id": "469485d2-8908-4d74-b707-b05d8790ccf4",
   "metadata": {},
   "outputs": [
    {
     "data": {
      "text/plain": [
       "Index(['ID', 'DOMAIN_ID', 'MACHINE_ID', 'SITE_SESSION_ID', 'TRANS_FREQ',\n",
       "       'DOMAIN_NAME', 'DIRECTP_D', 'PROD_NAME', 'PROD_QTY', 'PROD_TOTPRICE',\n",
       "       'REF_DOMAIN_NAME', 'DURATION', 'PAGES_VIEWED', 'HOUSEHOLD_SIZE',\n",
       "       'CHILDREN_D', 'CONNECTIONSPEED_D', 'LOG_PRICE', 'REF_D'],\n",
       "      dtype='object')"
      ]
     },
     "execution_count": 63,
     "metadata": {},
     "output_type": "execute_result"
    }
   ],
   "source": [
    "hclick.loc[hclick.REF_DOMAIN_NAME == 'NaN', 'REF_D']=0\n",
    "hclick.loc[hclick.REF_DOMAIN_NAME != 'NaN', 'REF_D']=1\n",
    "\n",
    "hclick.loc[hclick.PROD_TOTPRICE>500,'LOG_PRICE']=0\n",
    "hclick.loc[hclick.PROD_TOTPRICE<499,'LOG_PRICE']=1\n",
    "hclick.columns"
   ]
  },
  {
   "cell_type": "markdown",
   "id": "23c10c55-9156-4648-a651-1681e3f97138",
   "metadata": {},
   "source": [
    "3. Look into descriptive statistics of key variables of your interest"
   ]
  },
  {
   "cell_type": "code",
   "execution_count": 64,
   "id": "526f2dfe-d771-4ca4-a209-026dbb71f4a2",
   "metadata": {},
   "outputs": [
    {
     "data": {
      "text/html": [
       "<div>\n",
       "<style scoped>\n",
       "    .dataframe tbody tr th:only-of-type {\n",
       "        vertical-align: middle;\n",
       "    }\n",
       "\n",
       "    .dataframe tbody tr th {\n",
       "        vertical-align: top;\n",
       "    }\n",
       "\n",
       "    .dataframe thead th {\n",
       "        text-align: right;\n",
       "    }\n",
       "</style>\n",
       "<table border=\"1\" class=\"dataframe\">\n",
       "  <thead>\n",
       "    <tr style=\"text-align: right;\">\n",
       "      <th></th>\n",
       "      <th>DIRECTP_D</th>\n",
       "      <th>REF_D</th>\n",
       "      <th>DURATION</th>\n",
       "      <th>LOG_PRICE</th>\n",
       "      <th>PAGES_VIEWED</th>\n",
       "      <th>TRANS_FREQ</th>\n",
       "    </tr>\n",
       "  </thead>\n",
       "  <tbody>\n",
       "    <tr>\n",
       "      <th>count</th>\n",
       "      <td>3749.000000</td>\n",
       "      <td>3749.0</td>\n",
       "      <td>3749.000000</td>\n",
       "      <td>3749.000000</td>\n",
       "      <td>3749.000000</td>\n",
       "      <td>3749.000000</td>\n",
       "    </tr>\n",
       "    <tr>\n",
       "      <th>mean</th>\n",
       "      <td>0.481462</td>\n",
       "      <td>1.0</td>\n",
       "      <td>25.317508</td>\n",
       "      <td>0.959989</td>\n",
       "      <td>18.331288</td>\n",
       "      <td>2.981328</td>\n",
       "    </tr>\n",
       "    <tr>\n",
       "      <th>std</th>\n",
       "      <td>0.499723</td>\n",
       "      <td>0.0</td>\n",
       "      <td>22.806497</td>\n",
       "      <td>0.196010</td>\n",
       "      <td>16.636523</td>\n",
       "      <td>4.120927</td>\n",
       "    </tr>\n",
       "    <tr>\n",
       "      <th>min</th>\n",
       "      <td>0.000000</td>\n",
       "      <td>1.0</td>\n",
       "      <td>0.029999</td>\n",
       "      <td>0.000000</td>\n",
       "      <td>1.000000</td>\n",
       "      <td>1.000000</td>\n",
       "    </tr>\n",
       "    <tr>\n",
       "      <th>25%</th>\n",
       "      <td>0.000000</td>\n",
       "      <td>1.0</td>\n",
       "      <td>9.449219</td>\n",
       "      <td>1.000000</td>\n",
       "      <td>8.000000</td>\n",
       "      <td>1.000000</td>\n",
       "    </tr>\n",
       "    <tr>\n",
       "      <th>50%</th>\n",
       "      <td>0.000000</td>\n",
       "      <td>1.0</td>\n",
       "      <td>17.777344</td>\n",
       "      <td>1.000000</td>\n",
       "      <td>13.000000</td>\n",
       "      <td>2.000000</td>\n",
       "    </tr>\n",
       "    <tr>\n",
       "      <th>75%</th>\n",
       "      <td>1.000000</td>\n",
       "      <td>1.0</td>\n",
       "      <td>33.656250</td>\n",
       "      <td>1.000000</td>\n",
       "      <td>23.000000</td>\n",
       "      <td>3.000000</td>\n",
       "    </tr>\n",
       "    <tr>\n",
       "      <th>max</th>\n",
       "      <td>1.000000</td>\n",
       "      <td>1.0</td>\n",
       "      <td>227.343750</td>\n",
       "      <td>1.000000</td>\n",
       "      <td>141.000000</td>\n",
       "      <td>30.000000</td>\n",
       "    </tr>\n",
       "  </tbody>\n",
       "</table>\n",
       "</div>"
      ],
      "text/plain": [
       "         DIRECTP_D   REF_D     DURATION    LOG_PRICE  PAGES_VIEWED  \\\n",
       "count  3749.000000  3749.0  3749.000000  3749.000000   3749.000000   \n",
       "mean      0.481462     1.0    25.317508     0.959989     18.331288   \n",
       "std       0.499723     0.0    22.806497     0.196010     16.636523   \n",
       "min       0.000000     1.0     0.029999     0.000000      1.000000   \n",
       "25%       0.000000     1.0     9.449219     1.000000      8.000000   \n",
       "50%       0.000000     1.0    17.777344     1.000000     13.000000   \n",
       "75%       1.000000     1.0    33.656250     1.000000     23.000000   \n",
       "max       1.000000     1.0   227.343750     1.000000    141.000000   \n",
       "\n",
       "        TRANS_FREQ  \n",
       "count  3749.000000  \n",
       "mean      2.981328  \n",
       "std       4.120927  \n",
       "min       1.000000  \n",
       "25%       1.000000  \n",
       "50%       2.000000  \n",
       "75%       3.000000  \n",
       "max      30.000000  "
      ]
     },
     "execution_count": 64,
     "metadata": {},
     "output_type": "execute_result"
    }
   ],
   "source": [
    "hclick[['DIRECTP_D', 'REF_D', 'DURATION', 'LOG_PRICE', 'PAGES_VIEWED', 'TRANS_FREQ']].describe()"
   ]
  },
  {
   "cell_type": "markdown",
   "id": "b7611a4e-082f-46a7-9028-0f0a1714d519",
   "metadata": {},
   "source": [
    "Scatterplot"
   ]
  },
  {
   "cell_type": "code",
   "execution_count": 34,
   "id": "67f8eafa-ce86-4b64-97a9-18fb1222c5d4",
   "metadata": {},
   "outputs": [],
   "source": [
    "import matplotlib.pyplot as plt\n",
    "import seaborn as sns"
   ]
  },
  {
   "cell_type": "code",
   "execution_count": 45,
   "id": "eca985ff-da17-4b8e-b16d-80728f452209",
   "metadata": {},
   "outputs": [
    {
     "name": "stderr",
     "output_type": "stream",
     "text": [
      "C:\\Users\\cynth\\anaconda3\\lib\\site-packages\\seaborn\\_decorators.py:36: FutureWarning: Pass the following variables as keyword args: x, y. From version 0.12, the only valid positional argument will be `data`, and passing other arguments without an explicit keyword will result in an error or misinterpretation.\n",
      "  warnings.warn(\n"
     ]
    },
    {
     "data": {
      "text/plain": [
       "<AxesSubplot:xlabel='PAGES_VIEWED', ylabel='DURATION'>"
      ]
     },
     "execution_count": 45,
     "metadata": {},
     "output_type": "execute_result"
    },
    {
     "data": {
      "image/png": "[encoded data removed]",
      "text/plain": [
       "<Figure size 432x288 with 1 Axes>"
      ]
     },
     "metadata": {
      "needs_background": "light"
     },
     "output_type": "display_data"
    }
   ],
   "source": [
    "x = \"PAGES_VIEWED\"\n",
    "y = \"DURATION\"\n",
    "sns.scatterplot(x, y, data=hclick)"
   ]
  },
  {
   "cell_type": "markdown",
   "id": "3e5f2b48-d993-42d3-bde7-c8bcc5b965f0",
   "metadata": {},
   "source": [
    "Histogram"
   ]
  },
  {
   "cell_type": "code",
   "execution_count": 59,
   "id": "04216cf4-9857-4c44-865e-1f35d3818a94",
   "metadata": {},
   "outputs": [
    {
     "data": {
      "text/plain": [
       "array([[<AxesSubplot:title={'center':'DIRECTP_D'}>]], dtype=object)"
      ]
     },
     "execution_count": 59,
     "metadata": {},
     "output_type": "execute_result"
    },
    {
     "data": {
      "image/png": "[encoded data removed]",
      "text/plain": [
       "<Figure size 432x288 with 1 Axes>"
      ]
     },
     "metadata": {
      "needs_background": "light"
     },
     "output_type": "display_data"
    },
    {
     "data": {
      "image/png": "[encoded data removed]",
      "text/plain": [
       "<Figure size 432x288 with 1 Axes>"
      ]
     },
     "metadata": {
      "needs_background": "light"
     },
     "output_type": "display_data"
    },
    {
     "data": {
      "image/png": "[encoded data removed]",
      "text/plain": [
       "<Figure size 432x288 with 1 Axes>"
      ]
     },
     "metadata": {
      "needs_background": "light"
     },
     "output_type": "display_data"
    },
    {
     "data": {
      "image/png": "[encoded data removed]",
      "text/plain": [
       "<Figure size 432x288 with 1 Axes>"
      ]
     },
     "metadata": {
      "needs_background": "light"
     },
     "output_type": "display_data"
    },
    {
     "data": {
      "image/png": "[encoded data removed]",
      "text/plain": [
       "<Figure size 432x288 with 1 Axes>"
      ]
     },
     "metadata": {
      "needs_background": "light"
     },
     "output_type": "display_data"
    }
   ],
   "source": [
    "hclick.hist('DURATION')\n",
    "hclick.hist('PAGES_VIEWED')\n",
    "hclick.hist('PROD_QTY')\n",
    "hclick.hist('TRANS_FREQ')\n",
    "hclick.hist('DIRECTP_D')"
   ]
  },
  {
   "cell_type": "markdown",
   "id": "6a78d912-8035-4e1c-88b5-8bca10a9bf61",
   "metadata": {},
   "source": [
    "Part 2"
   ]
  },
  {
   "cell_type": "markdown",
   "id": "59250e04-61ca-422e-ab17-ef67ca51ebfd",
   "metadata": {},
   "source": [
    "1. why do some people spend more time when booking hotels"
   ]
  },
  {
   "cell_type": "code",
   "execution_count": 3,
   "id": "0316727f-54e8-4383-9cb2-5b34d89e8204",
   "metadata": {},
   "outputs": [
    {
     "name": "stdout",
     "output_type": "stream",
     "text": [
      "<class 'pandas.core.frame.DataFrame'>\n",
      "RangeIndex: 3749 entries, 0 to 3748\n",
      "Data columns (total 16 columns):\n",
      " #   Column             Non-Null Count  Dtype  \n",
      "---  ------             --------------  -----  \n",
      " 0   ID                 3749 non-null   int64  \n",
      " 1   DOMAIN_ID          3749 non-null   uint64 \n",
      " 2   MACHINE_ID         3749 non-null   int64  \n",
      " 3   SITE_SESSION_ID    3749 non-null   int64  \n",
      " 4   TRANS_FREQ         3749 non-null   int64  \n",
      " 5   DOMAIN_NAME        3749 non-null   object \n",
      " 6   DIRECTP_D          3749 non-null   int64  \n",
      " 7   PROD_NAME          3749 non-null   object \n",
      " 8   PROD_QTY           3749 non-null   int64  \n",
      " 9   PROD_TOTPRICE      3749 non-null   float64\n",
      " 10  REF_DOMAIN_NAME    1687 non-null   object \n",
      " 11  DURATION           3749 non-null   float64\n",
      " 12  PAGES_VIEWED       3749 non-null   int64  \n",
      " 13  HOUSEHOLD_SIZE     3749 non-null   int64  \n",
      " 14  CHILDREN_D         3749 non-null   int64  \n",
      " 15  CONNECTIONSPEED_D  3749 non-null   int64  \n",
      "dtypes: float64(2), int64(10), object(3), uint64(1)\n",
      "memory usage: 468.8+ KB\n"
     ]
    }
   ],
   "source": [
    "import pandas as pd\n",
    "import statsmodels.api as sm\n",
    "hclick=pd.read_excel('hclick.xls')\n",
    "hclick.info()"
   ]
  },
  {
   "cell_type": "code",
   "execution_count": 4,
   "id": "39de1a08-ae5b-4ab2-9efc-e3ba82cb0208",
   "metadata": {},
   "outputs": [],
   "source": [
    "#Step 2:specify model\n",
    "mod=sm.OLS(hclick.DURATION,hclick[['PROD_QTY', 'DIRECTP_D']])"
   ]
  },
  {
   "cell_type": "code",
   "execution_count": 5,
   "id": "25b89b70-f05c-4949-a837-2d4bc90eac7b",
   "metadata": {},
   "outputs": [
    {
     "name": "stdout",
     "output_type": "stream",
     "text": [
      "                                 OLS Regression Results                                \n",
      "=======================================================================================\n",
      "Dep. Variable:               DURATION   R-squared (uncentered):                   0.418\n",
      "Model:                            OLS   Adj. R-squared (uncentered):              0.418\n",
      "Method:                 Least Squares   F-statistic:                              1347.\n",
      "Date:                Tue, 15 Mar 2022   Prob (F-statistic):                        0.00\n",
      "Time:                        20:17:10   Log-Likelihood:                         -17533.\n",
      "No. Observations:                3749   AIC:                                  3.507e+04\n",
      "Df Residuals:                    3747   BIC:                                  3.508e+04\n",
      "Df Model:                           2                                                  \n",
      "Covariance Type:            nonrobust                                                  \n",
      "==============================================================================\n",
      "                 coef    std err          t      P>|t|      [0.025      0.975]\n",
      "------------------------------------------------------------------------------\n",
      "PROD_QTY       8.5547      0.220     38.916      0.000       8.124       8.986\n",
      "DIRECTP_D      7.8300      0.699     11.196      0.000       6.459       9.201\n",
      "==============================================================================\n",
      "Omnibus:                      926.472   Durbin-Watson:                   1.784\n",
      "Prob(Omnibus):                  0.000   Jarque-Bera (JB):             8772.021\n",
      "Skew:                           0.901   Prob(JB):                         0.00\n",
      "Kurtosis:                      10.274   Cond. No.                         3.73\n",
      "==============================================================================\n",
      "\n",
      "Notes:\n",
      "[1] R² is computed without centering (uncentered) since the model does not contain a constant.\n",
      "[2] Standard Errors assume that the covariance matrix of the errors is correctly specified.\n"
     ]
    }
   ],
   "source": [
    "#fit data into model\n",
    "res=mod.fit()\n",
    "\n",
    "#Step 3: print out result summary\n",
    "print(res.summary())"
   ]
  },
  {
   "cell_type": "code",
   "execution_count": 6,
   "id": "70117565-13bf-4466-88fb-e650c51424fa",
   "metadata": {},
   "outputs": [
    {
     "name": "stdout",
     "output_type": "stream",
     "text": [
      "                            OLS Regression Results                            \n",
      "==============================================================================\n",
      "Dep. Variable:               DURATION   R-squared:                       0.044\n",
      "Model:                            OLS   Adj. R-squared:                  0.044\n",
      "Method:                 Least Squares   F-statistic:                     86.77\n",
      "Date:                Tue, 15 Mar 2022   Prob (F-statistic):           1.45e-37\n",
      "Time:                        20:17:59   Log-Likelihood:                -16958.\n",
      "No. Observations:                3749   AIC:                         3.392e+04\n",
      "Df Residuals:                    3746   BIC:                         3.394e+04\n",
      "Df Model:                           2                                         \n",
      "Covariance Type:            nonrobust                                         \n",
      "==============================================================================\n",
      "                 coef    std err          t      P>|t|      [0.025      0.975]\n",
      "------------------------------------------------------------------------------\n",
      "const         26.0263      0.710     36.677      0.000      24.635      27.418\n",
      "PROD_QTY       1.7491      0.265      6.611      0.000       1.230       2.268\n",
      "DIRECTP_D     -7.7108      0.735    -10.498      0.000      -9.151      -6.271\n",
      "==============================================================================\n",
      "Omnibus:                     1460.258   Durbin-Watson:                   1.973\n",
      "Prob(Omnibus):                  0.000   Jarque-Bera (JB):             6561.464\n",
      "Skew:                           1.861   Prob(JB):                         0.00\n",
      "Kurtosis:                       8.306   Cond. No.                         5.98\n",
      "==============================================================================\n",
      "\n",
      "Notes:\n",
      "[1] Standard Errors assume that the covariance matrix of the errors is correctly specified.\n"
     ]
    }
   ],
   "source": [
    "indepvar=sm.add_constant(hclick[['PROD_QTY','DIRECTP_D']])\n",
    "mod=sm.OLS(hclick.DURATION,indepvar)\n",
    "res=mod.fit()\n",
    "print(res.summary())"
   ]
  },
  {
   "cell_type": "markdown",
   "id": "c2487750-f5f0-4dce-9b3f-c7d7ada0c45e",
   "metadata": {},
   "source": [
    "2.  why do some people visit more pages when booking hotels"
   ]
  },
  {
   "cell_type": "code",
   "execution_count": 7,
   "id": "d6ad3611-d222-43a7-a8cc-16af0b7e4435",
   "metadata": {
    "tags": []
   },
   "outputs": [
    {
     "name": "stdout",
     "output_type": "stream",
     "text": [
      "                                 OLS Regression Results                                \n",
      "=======================================================================================\n",
      "Dep. Variable:           PAGES_VIEWED   R-squared (uncentered):                   0.436\n",
      "Model:                            OLS   Adj. R-squared (uncentered):              0.436\n",
      "Method:                 Least Squares   F-statistic:                              1451.\n",
      "Date:                Tue, 15 Mar 2022   Prob (F-statistic):                        0.00\n",
      "Time:                        20:18:09   Log-Likelihood:                         -16275.\n",
      "No. Observations:                3749   AIC:                                  3.255e+04\n",
      "Df Residuals:                    3747   BIC:                                  3.257e+04\n",
      "Df Model:                           2                                                  \n",
      "Covariance Type:            nonrobust                                                  \n",
      "==============================================================================\n",
      "                 coef    std err          t      P>|t|      [0.025      0.975]\n",
      "------------------------------------------------------------------------------\n",
      "PROD_QTY       6.0090      0.152     39.601      0.000       5.711       6.306\n",
      "TRANS_FREQ     1.0771      0.066     16.353      0.000       0.948       1.206\n",
      "==============================================================================\n",
      "Omnibus:                     1156.485   Durbin-Watson:                   1.710\n",
      "Prob(Omnibus):                  0.000   Jarque-Bera (JB):            12503.766\n",
      "Skew:                           1.151   Prob(JB):                         0.00\n",
      "Kurtosis:                      11.646   Cond. No.                         2.64\n",
      "==============================================================================\n",
      "\n",
      "Notes:\n",
      "[1] R² is computed without centering (uncentered) since the model does not contain a constant.\n",
      "[2] Standard Errors assume that the covariance matrix of the errors is correctly specified.\n"
     ]
    }
   ],
   "source": [
    "mod=sm.OLS(hclick.PAGES_VIEWED,hclick[['PROD_QTY', 'TRANS_FREQ']])\n",
    "#fit data into model\n",
    "res=mod.fit()\n",
    "\n",
    "#Step 3: print out result summary\n",
    "print(res.summary())"
   ]
  },
  {
   "cell_type": "code",
   "execution_count": 8,
   "id": "99e558ac-768b-4d33-9dee-0a67bad8da12",
   "metadata": {},
   "outputs": [
    {
     "name": "stdout",
     "output_type": "stream",
     "text": [
      "                            OLS Regression Results                            \n",
      "==============================================================================\n",
      "Dep. Variable:           PAGES_VIEWED   R-squared:                       0.017\n",
      "Model:                            OLS   Adj. R-squared:                  0.017\n",
      "Method:                 Least Squares   F-statistic:                     32.51\n",
      "Date:                Tue, 15 Mar 2022   Prob (F-statistic):           1.00e-14\n",
      "Time:                        20:18:19   Log-Likelihood:                -15828.\n",
      "No. Observations:                3749   AIC:                         3.166e+04\n",
      "Df Residuals:                    3746   BIC:                         3.168e+04\n",
      "Df Model:                           2                                         \n",
      "Covariance Type:            nonrobust                                         \n",
      "==============================================================================\n",
      "                 coef    std err          t      P>|t|      [0.025      0.975]\n",
      "------------------------------------------------------------------------------\n",
      "const         15.2828      0.481     31.790      0.000      14.340      16.225\n",
      "PROD_QTY       1.5406      0.195      7.914      0.000       1.159       1.922\n",
      "TRANS_FREQ     0.1351      0.066      2.062      0.039       0.007       0.264\n",
      "==============================================================================\n",
      "Omnibus:                     1900.435   Durbin-Watson:                   1.866\n",
      "Prob(Omnibus):                  0.000   Jarque-Bera (JB):            14153.792\n",
      "Skew:                           2.314   Prob(JB):                         0.00\n",
      "Kurtosis:                      11.318   Cond. No.                         9.76\n",
      "==============================================================================\n",
      "\n",
      "Notes:\n",
      "[1] Standard Errors assume that the covariance matrix of the errors is correctly specified.\n"
     ]
    }
   ],
   "source": [
    "indepvar=sm.add_constant(hclick[['PROD_QTY','TRANS_FREQ']])\n",
    "mod=sm.OLS(hclick.PAGES_VIEWED,indepvar)\n",
    "res=mod.fit()\n",
    "print(res.summary())"
   ]
  }
 ],
 "metadata": {
  "kernelspec": {
   "display_name": "Python 3",
   "language": "python",
   "name": "python3"
  },
  "language_info": {
   "codemirror_mode": {
    "name": "ipython",
    "version": 3
   },
   "file_extension": ".py",
   "mimetype": "text/x-python",
   "name": "python",
   "nbconvert_exporter": "python",
   "pygments_lexer": "ipython3",
   "version": "3.8.8"
  }
 },
 "nbformat": 4,
 "nbformat_minor": 5
}
